{
 "cells": [
  {
   "cell_type": "code",
   "execution_count": 4,
   "metadata": {},
   "outputs": [
    {
     "name": "stdout",
     "output_type": "stream",
     "text": [
      "[[-1, 0, 10.5], [nan, inf, -inf]]\n",
      "[[-1, 0, 10.5], ['NaN', 'Inf', '-Inf']]\n"
     ]
    }
   ],
   "source": [
    "from typing import List\n",
    "import math\n",
    "\n",
    "values = [[-1,0, 10.5], [float('nan'), float('inf'), -float('inf')]]\n",
    "print(values)\n",
    "\n",
    "def sanitize_json_numbers(values: List[List[float]]):\n",
    "    def replace_value(value: float):\n",
    "        if math.isnan(value):\n",
    "            return 'NaN'\n",
    "        elif math.isinf(value) and value > 0:\n",
    "            return 'Inf'\n",
    "        elif math.isinf(value) and value < 0:\n",
    "            return '-Inf'\n",
    "        else: \n",
    "            return value\n",
    "    return [[replace_value(i) for i in l] for l in values]\n",
    "\n",
    "print(sanitize_json_numbers(values))\n",
    "# s = [[i for i in l] for l in values]\n",
    "\n",
    "# print(s)"
   ]
  },
  {
   "cell_type": "code",
   "execution_count": 3,
   "metadata": {},
   "outputs": [
    {
     "name": "stdout",
     "output_type": "stream",
     "text": [
      "orig\n",
      "torch.Size([2, 4, 3])\n",
      "tensor([[[1., 2., 3.],\n",
      "         [1., 2., 3.],\n",
      "         [4., 5., 6.],\n",
      "         [4., 5., 6.]],\n",
      "\n",
      "        [[1., 2., 3.],\n",
      "         [1., 2., 3.],\n",
      "         [4., 5., 6.],\n",
      "         [4., 5., 6.]]])\n",
      "\n",
      "permute\n",
      "torch.Size([2, 3, 4])\n",
      "tensor([[[1., 1., 4., 4.],\n",
      "         [2., 2., 5., 5.],\n",
      "         [3., 3., 6., 6.]],\n",
      "\n",
      "        [[1., 1., 4., 4.],\n",
      "         [2., 2., 5., 5.],\n",
      "         [3., 3., 6., 6.]]])\n",
      "\n",
      "transpose1\n",
      "torch.Size([3, 2, 4])\n",
      "tensor([[[1., 1., 4., 4.],\n",
      "         [1., 1., 4., 4.]],\n",
      "\n",
      "        [[2., 2., 5., 5.],\n",
      "         [2., 2., 5., 5.]],\n",
      "\n",
      "        [[3., 3., 6., 6.],\n",
      "         [3., 3., 6., 6.]]])\n",
      "\n"
     ]
    }
   ],
   "source": [
    "import torch\n",
    "def pt(n,t):\n",
    "    print(n)\n",
    "    print(t.size())\n",
    "    print(t)\n",
    "    print()\n",
    "    \n",
    "a = torch.Tensor([\n",
    "    [\n",
    "        [1,1,4,4],\n",
    "        [1,1,4,4],\n",
    "    ],\n",
    "    [\n",
    "        [2,2,5,5],\n",
    "        [2,2,5,5],\n",
    "    ],\n",
    "    [\n",
    "        [3,3,6,6],\n",
    "        [3,3,6,6],\n",
    "    ],\n",
    "])\n",
    "\n",
    "a = torch.Tensor([\n",
    "    [\n",
    "        [1,2,3],\n",
    "        [1,2,3],\n",
    "        [4,5,6],\n",
    "        [4,5,6],\n",
    "    ],\n",
    "    [\n",
    "        [1,2,3],\n",
    "        [1,2,3],\n",
    "        [4,5,6],\n",
    "        [4,5,6],\n",
    "    ],\n",
    "])\n",
    "\n",
    "pt('orig', a)\n",
    "pt('permute', a.permute(0,2,1))\n",
    "pt('transpose1', a.transpose(-1,-2).transpose(-2,-3))\n"
   ]
  },
  {
   "cell_type": "code",
   "execution_count": 1,
   "metadata": {},
   "outputs": [
    {
     "name": "stdout",
     "output_type": "stream",
     "text": [
      "a\n",
      "torch.Size([2, 3])\n",
      "tensor([[ 1.,  2.,  3.],\n",
      "        [10., 20., 30.]])\n",
      "\n",
      "b\n",
      "torch.Size([2, 3])\n",
      "tensor([[0., 0., 0.],\n",
      "        [0., 0., 0.]])\n",
      "\n",
      "s1\n",
      "torch.Size([2, 3])\n",
      "tensor([[ 3.,  2.,  1.],\n",
      "        [20., 30., 10.]])\n",
      "\n",
      "s0\n",
      "torch.Size([2, 3])\n",
      "tensor([[ 1., 20.,  3.],\n",
      "        [10.,  2., 30.]])\n",
      "\n",
      "g1\n",
      "torch.Size([2, 3])\n",
      "tensor([[ 3.,  2.,  1.],\n",
      "        [30., 10., 20.]])\n",
      "\n",
      "g0\n",
      "torch.Size([2, 3])\n",
      "tensor([[ 1., 20.,  3.],\n",
      "        [10.,  2., 30.]])\n",
      "\n",
      "g_0\n",
      "torch.Size([3, 3])\n",
      "tensor([[ 1.,  2., 30.],\n",
      "        [ 1.,  2., 30.],\n",
      "        [10.,  2., 30.]])\n",
      "\n",
      "g_1\n",
      "torch.Size([2, 3])\n",
      "tensor([[ 1.,  2.,  2.],\n",
      "        [10., 10., 10.]])\n",
      "\n"
     ]
    }
   ],
   "source": [
    "import torch\n",
    "def pt(n,t):\n",
    "    print(n)\n",
    "    print(t.size())\n",
    "    print(t)\n",
    "    print()\n",
    "    \n",
    "a = torch.tensor([[1,2,3],[10,20,30]]).float()\n",
    "b = torch.zeros(2,3)\n",
    "i1 = torch.tensor([[2,1,0], [2,0,1]], dtype=torch.long)\n",
    "i0 = torch.tensor([[0,1,0], [1,0,1]], dtype=torch.long)\n",
    "\n",
    "pt('a', a)\n",
    "pt('b', b)\n",
    "s1 = torch.zeros(2,3).scatter_(1, i1, a)\n",
    "pt('s1', s1)\n",
    "s0 = torch.zeros(2,3).scatter_(0, i0, a)\n",
    "pt('s0', s0)\n",
    "\n",
    "g1 = a.gather(1, i1)\n",
    "pt('g1', g1)\n",
    "g0 = a.gather(0, i0)\n",
    "pt('g0', g0)\n",
    "\n",
    "g = a.gather(0, torch.tensor([[0,0,1], [0,0,1], [1,0,1]], dtype=torch.long))\n",
    "pt('g_0', g)\n",
    "\n",
    "g = a.gather(1, torch.tensor([[0,1, 1], [0,0, 0]], dtype=torch.long))\n",
    "pt('g_1', g)\n",
    "\n"
   ]
  },
  {
   "cell_type": "code",
   "execution_count": 6,
   "metadata": {},
   "outputs": [
    {
     "name": "stdout",
     "output_type": "stream",
     "text": [
      "data\n",
      "torch.Size([3, 2, 2])\n",
      "tensor([[[ 1,  2],\n",
      "         [ 3,  4]],\n",
      "\n",
      "        [[ 5,  6],\n",
      "         [ 7,  8]],\n",
      "\n",
      "        [[ 9, 10],\n",
      "         [11, 12]]])\n",
      "\n",
      "r\n",
      "torch.Size([1, 3, 2, 2])\n",
      "tensor([[[[ 1,  2],\n",
      "          [ 3,  4]],\n",
      "\n",
      "         [[ 5,  6],\n",
      "          [ 7,  8]],\n",
      "\n",
      "         [[ 9, 10],\n",
      "          [11, 12]]]])\n",
      "\n",
      "\n",
      "torch.Size([2, 2])\n",
      "tensor([[1, 2],\n",
      "        [3, 4]])\n",
      "\n",
      "i\n",
      "torch.Size([4, 2, 2])\n",
      "tensor([[[ 9, 10],\n",
      "         [11, 12]],\n",
      "\n",
      "        [[ 5,  6],\n",
      "         [ 7,  8]],\n",
      "\n",
      "        [[ 1,  2],\n",
      "         [ 3,  4]],\n",
      "\n",
      "        [[ 1,  2],\n",
      "         [ 3,  4]]])\n",
      "\n",
      "v\n",
      "torch.Size([2, 2, 2, 2])\n",
      "tensor([[[[ 9, 10],\n",
      "          [11, 12]],\n",
      "\n",
      "         [[ 5,  6],\n",
      "          [ 7,  8]]],\n",
      "\n",
      "\n",
      "        [[[ 1,  2],\n",
      "          [ 3,  4]],\n",
      "\n",
      "         [[ 1,  2],\n",
      "          [ 3,  4]]]])\n",
      "\n"
     ]
    }
   ],
   "source": [
    "a = [torch.arange(x,x + 4).view(2,2) for x in range(1, 3*4 + 1, 4)\n",
    "]\n",
    "# for i,t in enumerate(a):\n",
    "#     pt(f'a[{i}]', t)\n",
    "    \n",
    "data = torch.stack(a)\n",
    "pt('data', data)\n",
    "\n",
    "r = data.clone()\n",
    "r.unsqueeze_(dim=0)\n",
    "pt('r', r)\n",
    "pt('', r[0, 0])\n",
    "\n",
    "\n",
    "index = torch.full((2,2), 0, dtype=torch.long).unsqueeze(dim=0)\n",
    "# pt('g', data.gather(0, torch.tensor([[[1, 1], [1, 1]]])))\n",
    "# pt('g_', data.gather(0, index))\n",
    "reorder = data.index_select(0, torch.tensor([2, 1, 0, 0]))\n",
    "pt('i', reorder)\n",
    "pt('v', reorder.view((2,2,2,2)))"
   ]
  },
  {
   "cell_type": "code",
   "execution_count": 26,
   "metadata": {},
   "outputs": [
    {
     "name": "stdout",
     "output_type": "stream",
     "text": [
      "a\n",
      "torch.Size([10])\n",
      "tensor([0, 1, 2, 3, 4, 5, 6, 7, 8, 9])\n",
      "\n",
      "e\n",
      "torch.Size([1, 40])\n",
      "tensor([[0, 1, 2, 3, 4, 5, 6, 7, 8, 9, 0, 1, 2, 3, 4, 5, 6, 7, 8, 9, 0, 1, 2, 3,\n",
      "         4, 5, 6, 7, 8, 9, 0, 1, 2, 3, 4, 5, 6, 7, 8, 9]])\n",
      "\n",
      "e2\n",
      "torch.Size([1, 40])\n",
      "tensor([[0, 0, 0, 0, 1, 1, 1, 1, 2, 2, 2, 2, 3, 3, 3, 3, 4, 4, 4, 4, 5, 5, 5, 5,\n",
      "         6, 6, 6, 6, 7, 7, 7, 7, 8, 8, 8, 8, 9, 9, 9, 9]])\n",
      "\n"
     ]
    }
   ],
   "source": [
    "\n",
    "\n",
    "a = torch.arange(0, 10)\n",
    "pt('a', a)\n",
    "pt('e', a.expand(4,10).contiguous().view(-1, 40))\n",
    "\n",
    "pt('e2', a.expand(4,10).transpose(0,1).contiguous().view(-1, 40))\n"
   ]
  },
  {
   "cell_type": "code",
   "execution_count": 22,
   "metadata": {},
   "outputs": [
    {
     "name": "stdout",
     "output_type": "stream",
     "text": [
      "a\n",
      "torch.Size([24])\n",
      "tensor([ 1,  2,  3,  4,  5,  6,  7,  8,  9, 10, 11, 12, 13, 14, 15, 16, 17, 18,\n",
      "        19, 20, 21, 22, 23, 24])\n",
      "\n",
      "e\n",
      "torch.Size([4, 2, 3])\n",
      "tensor([[[ 1,  2,  3],\n",
      "         [ 4,  5,  6]],\n",
      "\n",
      "        [[ 7,  8,  9],\n",
      "         [10, 11, 12]],\n",
      "\n",
      "        [[13, 14, 15],\n",
      "         [16, 17, 18]],\n",
      "\n",
      "        [[19, 20, 21],\n",
      "         [22, 23, 24]]])\n",
      "\n"
     ]
    }
   ],
   "source": [
    "a = torch.arange(1, 25)\n",
    "pt('a', a)\n",
    "e = a.view(-1, 2, 3)\n",
    "pt('e', e)"
   ]
  },
  {
   "cell_type": "code",
   "execution_count": 31,
   "metadata": {},
   "outputs": [
    {
     "name": "stdout",
     "output_type": "stream",
     "text": [
      "a\n",
      "torch.Size([1, 8])\n",
      "tensor([[0, 1, 0, 1, 0, 1, 0, 1]])\n",
      "\n",
      "o\n",
      "torch.Size([1, 8])\n",
      "tensor([[0, 0, 0, 0, 1, 1, 1, 1]])\n",
      "\n",
      "i\n",
      "torch.Size([1, 8])\n",
      "tensor([[0, 1, 0, 1, 1, 2, 1, 2]])\n",
      "\n"
     ]
    }
   ],
   "source": [
    "image_rows = 8\n",
    "items_per_row = 2\n",
    "expand_width = int(image_rows/items_per_row)\n",
    "\n",
    "indices = torch.arange(0, items_per_row).expand(expand_width, items_per_row).contiguous().view(-1, image_rows)\n",
    "indices_offset = torch.arange(0, items_per_row).expand(expand_width, items_per_row).transpose(0,1).contiguous().view(-1, image_rows)\n",
    "i = indices.add(indices_offset)\n",
    "\n",
    "pt('a', indices)\n",
    "pt('o', indices_offset)\n",
    "pt('i', i)"
   ]
  },
  {
   "cell_type": "code",
   "execution_count": 45,
   "metadata": {},
   "outputs": [
    {
     "name": "stdout",
     "output_type": "stream",
     "text": [
      "a\n",
      "torch.Size([4, 6])\n",
      "tensor([[ 1,  2,  3,  4,  5,  6],\n",
      "        [ 7,  8,  9, 10, 11, 12],\n",
      "        [13, 14, 15, 16, 17, 18],\n",
      "        [19, 20, 21, 22, 23, 24]])\n",
      "\n",
      "i\n",
      "torch.Size([6])\n",
      "tensor([0, 3, 1, 4, 2, 5])\n",
      "\n",
      "ri\n",
      "torch.Size([24])\n",
      "tensor([ 1,  4,  2,  5,  3,  6,  7, 10,  8, 11,  9, 12, 13, 16, 14, 17, 15, 18,\n",
      "        19, 22, 20, 23, 21, 24])\n",
      "\n"
     ]
    }
   ],
   "source": [
    "a = torch.arange(1,25)\n",
    "w = 2\n",
    "h = 3\n",
    "a = a.view(-1,w*h)\n",
    "pt('a', a)\n",
    "\n",
    "\n",
    "i = torch.arange(0, w*h)\n",
    "i = i.view(w, h).transpose(0,1).contiguous().view(-1)\n",
    "pt('i', i)\n",
    "\n",
    "ri = a.index_select(1, i).view(-1)\n",
    "pt('ri', ri)"
   ]
  },
  {
   "cell_type": "code",
   "execution_count": 50,
   "metadata": {},
   "outputs": [
    {
     "data": {
      "text/plain": [
       "tensor([[[1, 2],\n",
       "         [3, 4]],\n",
       "\n",
       "        [[1, 2],\n",
       "         [3, 4]],\n",
       "\n",
       "        [[1, 2],\n",
       "         [3, 4]]])"
      ]
     },
     "execution_count": 50,
     "metadata": {},
     "output_type": "execute_result"
    }
   ],
   "source": [
    "torch.tensor([[1,2], [3,4]]).expand([3,2,-1])"
   ]
  },
  {
   "cell_type": "code",
   "execution_count": 11,
   "metadata": {},
   "outputs": [
    {
     "name": "stdout",
     "output_type": "stream",
     "text": [
      "mask\n",
      "torch.Size([4, 3])\n",
      "tensor([[0, 0, 0],\n",
      "        [0, 0, 1],\n",
      "        [0, 0, 0],\n",
      "        [0, 0, 0]], dtype=torch.uint8)\n",
      "\n"
     ]
    },
    {
     "data": {
      "text/plain": [
       "tensor([0, 1, 3])"
      ]
     },
     "execution_count": 11,
     "metadata": {},
     "output_type": "execute_result"
    }
   ],
   "source": [
    "s = torch.tensor([\n",
    "            [0, 1, 0],  # 5\n",
    "            [0, 1, 2],  # 2\n",
    "            [0, 1, 3],  # 1\n",
    "            [0, 1, 0],  # 1\n",
    "        ])\n",
    "mask = s == 2\n",
    "pt('mask', mask)\n",
    "mask.any(dim=1)\n",
    "s[2,:]"
   ]
  }
 ],
 "metadata": {
  "kernelspec": {
   "display_name": "Python 3",
   "language": "python",
   "name": "python3"
  },
  "language_info": {
   "codemirror_mode": {
    "name": "ipython",
    "version": 3
   },
   "file_extension": ".py",
   "mimetype": "text/x-python",
   "name": "python",
   "nbconvert_exporter": "python",
   "pygments_lexer": "ipython3",
   "version": "3.7.0"
  }
 },
 "nbformat": 4,
 "nbformat_minor": 2
}
